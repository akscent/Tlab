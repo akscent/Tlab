{
 "cells": [
  {
   "cell_type": "markdown",
   "id": "67f67359-c1a8-4443-b9be-7838e0d1cc55",
   "metadata": {},
   "source": [
    "# Прогнозируем временные ряды продаж товаров\n",
    "В этом задании предлагается проанализировать датасет продаж различных товаров и построить предсказание на 24 дня вперед с `2018-12-07`.\n",
    "\n",
    "В ноутбуке содержится ряд вопросов, которые подскажут, на что стоит обратить внимание при прогнозировании. Ответы на них следует оформлять текстом и иллюстрировать кодом/визуализациями.\n",
    "\n",
    "\n",
    "Подробное описание датасетов содержится в файле `dataset/README.md`.\n",
    "\n",
    "<b>При выполнении задания нельзя использовать библиотеку etna.</b>\n",
    "<!-- Кроме самих целевых временных рядов, можно будет использовать исторические данные о проведенных акциях.  \n",
    "[Подробное описание датасета](https://data.world/data-society/causal-effects-in-time-series) -->"
   ]
  },
  {
   "cell_type": "markdown",
   "id": "434c01ae",
   "metadata": {},
   "source": [
    "***\n",
    "# 0. Загрузка датасета\n",
    "В этой части не нужно писать никакого дополнительного кода."
   ]
  },
  {
   "cell_type": "code",
   "execution_count": null,
   "id": "768ecbcd-8a95-4af6-8353-af9838917e2f",
   "metadata": {},
   "outputs": [],
   "source": [
    "!ls dataset"
   ]
  },
  {
   "cell_type": "code",
   "execution_count": 1,
   "id": "1669b860-1fa1-458b-8ab0-0a70ac17de2b",
   "metadata": {},
   "outputs": [],
   "source": [
    "import pandas as pd\n",
    "\n",
    "# загружаем датасет с продажами продуктов\n",
    "df_products = pd.read_csv(\"dataset/products.csv\", index_col=0)\n",
    "\n",
    "# загружаем датасет с рекламными акциями\n",
    "df_promotions = pd.read_csv(\"dataset/promotions.csv\", index_col=0)"
   ]
  },
  {
   "cell_type": "code",
   "execution_count": null,
   "id": "d914016f",
   "metadata": {},
   "outputs": [],
   "source": []
  },
  {
   "cell_type": "code",
   "execution_count": 243,
   "id": "fe3ec60c-1aaa-4784-81a4-52700db2cd51",
   "metadata": {},
   "outputs": [
    {
     "name": "stdout",
     "output_type": "stream",
     "text": [
      "Датасет с продажами: (1071, 30)\n",
      "Датасет с акциями: (1095, 1000)\n"
     ]
    }
   ],
   "source": [
    "print(f\"Датасет с продажами: {df_products.shape}\")\n",
    "print(f\"Датасет с акциями: {df_promotions.shape}\")"
   ]
  },
  {
   "cell_type": "code",
   "execution_count": null,
   "id": "a7fa06a5",
   "metadata": {},
   "outputs": [],
   "source": []
  },
  {
   "cell_type": "code",
   "execution_count": null,
   "id": "f3c3df4a",
   "metadata": {},
   "outputs": [],
   "source": [
    "!pip install plotly"
   ]
  },
  {
   "cell_type": "markdown",
   "id": "ff19f865",
   "metadata": {},
   "source": [
    "### Посмотрим, как выглядят ряды, которые нужно будет спрогнозировать"
   ]
  },
  {
   "cell_type": "code",
   "execution_count": null,
   "id": "c1d9d565",
   "metadata": {},
   "outputs": [],
   "source": [
    "from IPython.display import HTML\n",
    "from IPython.display import display\n",
    "# Взято https://stackoverflow.com/questions/31517194/how-to-hide-one-specific-cell-input-or-output-in-ipython-notebook\n",
    "tag = HTML('''<script>\n",
    "code_show=true; \n",
    "function code_toggle() {\n",
    "    if (code_show){\n",
    "        $('div.cell.code_cell.rendered.selected div.input').hide();\n",
    "    } else {\n",
    "        $('div.cell.code_cell.rendered.selected div.input').show();\n",
    "    }\n",
    "    code_show = !code_show\n",
    "} \n",
    "$( document ).ready(code_toggle);\n",
    "</script>\n",
    "Чтобы показать/скрыть данную ячейку кода нажмите <a href=\"javascript:code_toggle()\">здесь</a>.''')\n",
    "display(tag)\n",
    "\n",
    "import plotly.express as px\n",
    "import plotly.graph_objects as go\n",
    "fig = go.Figure()\n",
    "for products in df_products.columns[0:10]:\n",
    "    fig.add_trace(go.Scatter(x=df_products.index, y=df_products[products], name = products))\n",
    "    fig.update_xaxes(\n",
    "        tickformat=\"%b\\n%Y\")\n",
    "fig.update_xaxes(rangeslider_visible=True, \n",
    "                 title_text = \"Дата\", \n",
    "                 title_standoff = 25, \n",
    "                 rangeselector=dict(\n",
    "                     buttons=list([\n",
    "                         dict(count=1, label=\"1м\", step=\"month\", stepmode=\"backward\"),\n",
    "                         dict(count=6, label=\"6м\", step=\"month\", stepmode=\"backward\"),\n",
    "                         dict(count=1, label=\"1г\", step=\"year\", stepmode=\"backward\"),\n",
    "                         dict(label=\"все\", step=\"all\")])))\n",
    "fig.update_yaxes(title_text = \"Продажи\", title_standoff = 25)\n",
    "fig.update_layout(title = \"Набор временных рядов\")\n",
    "fig.show()\n",
    "\n",
    "fig = go.Figure()\n",
    "for products in df_products.columns[20:30]:\n",
    "    fig.add_trace(go.Scatter(x=df_products.index, y=df_products[products], name = products))\n",
    "    fig.update_xaxes(\n",
    "        tickformat=\"%b\\n%Y\")\n",
    "fig.update_xaxes(rangeslider_visible=True, \n",
    "                 title_text = \"Дата\", \n",
    "                 title_standoff = 25, \n",
    "                 rangeselector=dict(\n",
    "                     buttons=list([\n",
    "                         dict(count=1, label=\"1м\", step=\"month\", stepmode=\"backward\"),\n",
    "                         dict(count=6, label=\"6м\", step=\"month\", stepmode=\"backward\"),\n",
    "                         dict(count=1, label=\"1г\", step=\"year\", stepmode=\"backward\"),\n",
    "                         dict(label=\"все\", step=\"all\")])))\n",
    "fig.update_yaxes(title_text = \"Продажи\", title_standoff = 25)\n",
    "fig.update_layout(title = \"Набор временных рядов\")\n",
    "fig.show()\n",
    "\n",
    "fig = go.Figure()\n",
    "for products in df_products.columns[10:19]:\n",
    "    fig.add_trace(go.Scatter(x=df_products.index, y=df_products[products], name = products))\n",
    "    fig.update_xaxes(\n",
    "        tickformat=\"%b\\n%Y\")\n",
    "fig.update_xaxes(rangeslider_visible=True, \n",
    "                 title_text = \"Дата\", \n",
    "                 title_standoff = 25, \n",
    "                 rangeselector=dict(\n",
    "                     buttons=list([\n",
    "                         dict(count=1, label=\"1м\", step=\"month\", stepmode=\"backward\"),\n",
    "                         dict(count=6, label=\"6м\", step=\"month\", stepmode=\"backward\"),\n",
    "                         dict(count=1, label=\"1г\", step=\"year\", stepmode=\"backward\"),\n",
    "                         dict(label=\"все\", step=\"all\")])))\n",
    "fig.update_yaxes(title_text = \"Продажи\", title_standoff = 25)\n",
    "fig.update_layout(title = \"Набор временных рядов\")\n",
    "fig.show()"
   ]
  },
  {
   "cell_type": "markdown",
   "id": "6744fa5d",
   "metadata": {},
   "source": [
    "### Предварительно понятно, что временные ряды обладают ярко-выраженной сезонностью, вероятно коррелируют друг с другом или автокоррелируют. Кроме того, в рядах отсутствует долговременный тренд."
   ]
  },
  {
   "cell_type": "markdown",
   "id": "421f5fbd-1be8-47bd-83fa-177557b140a3",
   "metadata": {},
   "source": [
    "***\n",
    "# 1. EDA\n",
    "В этом блоке предлагается изучить исходные данные и ответить на вопросы про них."
   ]
  },
  {
   "cell_type": "markdown",
   "id": "20909620",
   "metadata": {},
   "source": [
    "## 1.1. Сезонности и тренды\n",
    "<ol>\n",
    "    <li>Есть ли в данных явно выраженные тренды?</li>\n",
    "    <li>Есть ли в данных сезонность? Если есть, то какая? Почему это может быть важно?</li>\n",
    "</ol>"
   ]
  },
  {
   "cell_type": "code",
   "execution_count": null,
   "id": "5340b4e4",
   "metadata": {
    "scrolled": true
   },
   "outputs": [],
   "source": [
    "# докажем отсутствие тренда првоеркой на стационарность при помощи теста Дики-Фулера\n",
    "from statsmodels.tsa.stattools import adfuller\n",
    "import matplotlib.pyplot as plt\n",
    "import seaborn as sns   \n",
    "import math\n",
    "\n",
    "i,j=0,0\n",
    "PLOTS_PER_ROW = 3\n",
    "fig, axs = plt.subplots(math.ceil(len(df_products.columns)/PLOTS_PER_ROW),PLOTS_PER_ROW, figsize=(20, 60))\n",
    "\n",
    "for col in df_products.columns:\n",
    "    result = adfuller(df_products[col])\n",
    "    significance_level = 0.05\n",
    "    adf_stat = result[0]\n",
    "    p_val = result[1]\n",
    "    crit_val_1 = result[4]['1%']\n",
    "    crit_val_5 = result[4]['5%']\n",
    "    crit_val_10 = result[4]['10%']\n",
    "    if (p_val < significance_level) & ((adf_stat < crit_val_1)):\n",
    "        linecolor = 'forestgreen' \n",
    "    elif (p_val < significance_level) & (adf_stat < crit_val_5):\n",
    "        linecolor = 'orange'\n",
    "    elif (p_val < significance_level) & (adf_stat < crit_val_10):\n",
    "        linecolor = 'red'\n",
    "    else:\n",
    "        linecolor = 'purple'\n",
    "    axs[i][j].plot(df_products.index, df_products[col], color=linecolor)\n",
    "    axs[i][j].set_title(f'ADF Statistic {adf_stat:0.3f}, p-value: {p_val:0.3f}\\nCritical Values 1%: {crit_val_1:0.3f}, 5%: {crit_val_5:0.3f}, 10%: {crit_val_10:0.3f}', fontsize=14)\n",
    "    axs[i][j].set_ylabel(ylabel=col, fontsize=14)\n",
    "    j+=1\n",
    "    if j%PLOTS_PER_ROW==0:\n",
    "        i+=1\n",
    "        j=0\n",
    "\n",
    "plt.tight_layout()\n",
    "plt.show()\n"
   ]
  },
  {
   "cell_type": "markdown",
   "id": "8231f975",
   "metadata": {},
   "source": [
    "**На 5% уровне значимости можно сказать, что все временные ряды стационарны согласно статистике Дики-Фулера. Нет ни одного красного графика. Это значит, что в данных нет выраженного тренда.**"
   ]
  },
  {
   "cell_type": "code",
   "execution_count": null,
   "id": "8cb42f31",
   "metadata": {},
   "outputs": [],
   "source": [
    "# для определения сезонности мы можем провести гармонический анализ с преобразованием Фурье\n",
    "import heapq\n",
    "from statsmodels.tsa.stattools import adfuller\n",
    "import matplotlib.pyplot as plt\n",
    "import seaborn as sns   \n",
    "import math\n",
    "import numpy as np\n",
    "lenth_prod = len(df_products.index)\n",
    "ts_ft=np.abs(np.fft.rfft(df_products['product_10']))\n",
    "ts_freq = np.fft.rfftfreq(lenth_prod)*lenth_prod\n",
    "ts = pd.DataFrame(ts_ft, columns = ['ts_ft'])\n",
    "ts_freq = np.fft.rfftfreq(lenth_prod)\n",
    "# Посмотрим на топ 10 самых выделяющихся гармоник для каждой переменной\n",
    "\n",
    "for col in df_products.columns:\n",
    "    ts_ft=np.abs(np.fft.rfft(df_products[col]))\n",
    "    ts_freq = np.fft.rfftfreq(lenth_prod)*lenth_prod\n",
    "    ts = pd.DataFrame(ts_ft, columns = [col])\n",
    "    print(ts.nlargest(10, col)) \n",
    "\n",
    "# можно заметить, что у рядов выделяются частоты на 14-40 дней, что отражает ежемесячную динамику"
   ]
  },
  {
   "cell_type": "code",
   "execution_count": null,
   "id": "eb4c1bce",
   "metadata": {},
   "outputs": [],
   "source": [
    "# кроме того, для определения сезонности помогут графики автокорреляции \n",
    "from statsmodels.graphics.tsaplots import plot_acf, plot_pacf\n",
    "i,j=0,0\n",
    "PLOTS_PER_ROW = 3\n",
    "fig, axs = plt.subplots(math.ceil(len(df_products.columns)/PLOTS_PER_ROW),PLOTS_PER_ROW, figsize=(20, 60))\n",
    "\n",
    "for col in df_products.columns:\n",
    "    plot_acf(df_products[col], ax=axs[i][j], lags=600)\n",
    "    axs[i][j].set_ylabel(ylabel=col, fontsize=14)\n",
    "    j+=1\n",
    "    if j%PLOTS_PER_ROW==0:\n",
    "        i+=1\n",
    "        j=0\n",
    "\n",
    "plt.show()\n",
    "\n",
    "# в данном случае мы видим, что в рядах есть значимые автокорреляции на разных уровнях: Например product_26\n",
    "# обладает ежегодной сезонностью, а product_27 полугодовой\n",
    "# на основании этих данных продукты можно распределить на кластеры, для которых можно обучить отдельные модели"
   ]
  },
  {
   "cell_type": "markdown",
   "id": "0fbea4e3",
   "metadata": {},
   "source": [
    "## 1.2. Масштаб\n",
    "<ol>\n",
    "    <li> Какой масштаб у рядов? </li>\n",
    "    <li> Какой разброс значений внутри каждого ряда? </li>\n",
    "    <li> Может ли это как-то помешать при прогнозировании? </li>\n",
    "</ol>"
   ]
  },
  {
   "cell_type": "code",
   "execution_count": null,
   "id": "2f64bfa9",
   "metadata": {},
   "outputs": [],
   "source": [
    "# создадим html отчёт о данных для удобства их просмотра. В отчёте представлены распределения, основные статистики, корреляции\n",
    "!jupyter nbextension enable --py widgetsnbextension\n",
    "from pandas_profiling import ProfileReport\n",
    "report = ProfileReport(df_products, title=\"Обзор данных\", sort=\"ascending\")\n",
    "report.to_file(\"ts_report.html\")\n",
    "report # можно заметить, что многие переменные коррелируют друг с другом, как в положительном направлении, так и в отрицательном\n",
    "# кроме того, не все переменные распределены приближенно по нормальному акону распределения, что говорит о том, что не ко всем из них подойдут стандартные параметрические оценки и нормы стандартизации"
   ]
  },
  {
   "cell_type": "code",
   "execution_count": null,
   "id": "e0f5b785",
   "metadata": {},
   "outputs": [],
   "source": [
    "import gc\n",
    "import sys\n",
    "import warnings\n",
    "from joblib import Parallel, delayed\n",
    "from pathlib import Path\n",
    "\n",
    "import ipywidgets as widgets\n",
    "import matplotlib.pyplot as plt\n",
    "import numpy as np\n",
    "import pandas as pd\n",
    "import seaborn as sns\n",
    "from sklearn.model_selection import train_test_split\n",
    "from statsmodels.tsa.deterministic import (CalendarFourier,\n",
    "                                           CalendarSeasonality,\n",
    "                                           CalendarTimeTrend,\n",
    "                                           DeterministicProcess)\n",
    "\n",
    "import tensorflow as tf\n",
    "from tensorflow import keras\n",
    "from tensorflow.keras import layers\n",
    "import heapq\n",
    "from statsmodels.tsa.stattools import adfuller\n",
    "import matplotlib.pyplot as plt\n",
    "import seaborn as sns   \n",
    "import math\n",
    "# построим периодограммы для каждого продукта, чтобы оценить масштаб сезонностей во временных рядах\n",
    "def plot_periodogram(ts, detrend='linear', ax=None):\n",
    "    from scipy.signal import periodogram\n",
    "    fs = pd.Timedelta(\"1Y\") / pd.Timedelta(\"1D\")\n",
    "    freqencies, spectrum = periodogram(\n",
    "        ts,\n",
    "        fs=fs,\n",
    "        detrend=detrend,\n",
    "        window=\"boxcar\",\n",
    "        scaling='spectrum',\n",
    "    )\n",
    "    if ax is None:\n",
    "        _, ax = plt.subplots()\n",
    "    ax.step(freqencies, spectrum, color=\"forestgreen\")\n",
    "    ax.set_xscale(\"log\")\n",
    "    ax.set_xticks([1, 2, 4, 12, 52])\n",
    "    ax.set_xticklabels(\n",
    "        [\n",
    "            \"Годовой\",\n",
    "            \"Полугодовой\",\n",
    "            \"Квартальный\",\n",
    "            \"Месчный\",\n",
    "            \"Недельный\",\n",
    "        ],\n",
    "        rotation=30,\n",
    "    )\n",
    "    ax.ticklabel_format(axis=\"y\", style=\"sci\", scilimits=(0, 0))\n",
    "    ax.set_ylabel(\"Спектральная плотность\")\n",
    "    return ax\n",
    "\n",
    "i,j=0,0\n",
    "PLOTS_PER_ROW = 3\n",
    "fig, axs = plt.subplots(math.ceil(len(df_products.columns)/PLOTS_PER_ROW),PLOTS_PER_ROW, figsize=(20, 60))\n",
    "\n",
    "for col in df_products.columns:\n",
    "    plot_periodogram(df_products[col], ax=axs[i][j])\n",
    "    axs[i][j].set_title(\"Периодограмма \"+col)\n",
    "    j+=1\n",
    "    if j%PLOTS_PER_ROW==0:\n",
    "        i+=1\n",
    "        j=0\n",
    "# как можно заметить, и как ранее показал график автокорреляций, большинство рядов обладают годовой и полугодовой сезонностью \n",
    "# так же есть и месячная сезонность\n",
    "# тем не менее, необходимо сделать прогноз на 24 дня, поэтому группировать ряды по сезоным мы не будем"
   ]
  },
  {
   "cell_type": "code",
   "execution_count": 3,
   "id": "17373c34",
   "metadata": {},
   "outputs": [],
   "source": [
    "import gc\n",
    "import sys\n",
    "import warnings\n",
    "from joblib import Parallel, delayed\n",
    "from pathlib import Path\n",
    "\n",
    "import ipywidgets as widgets\n",
    "import matplotlib.pyplot as plt\n",
    "import numpy as np\n",
    "import pandas as pd\n",
    "import seaborn as sns\n",
    "from sklearn.model_selection import train_test_split\n",
    "from statsmodels.tsa.deterministic import (CalendarFourier,\n",
    "                                           CalendarSeasonality,\n",
    "                                           CalendarTimeTrend,\n",
    "                                           DeterministicProcess)\n",
    "\n",
    "import tensorflow as tf\n",
    "from tensorflow import keras\n",
    "from tensorflow.keras import layers\n",
    "import heapq\n",
    "from statsmodels.tsa.stattools import adfuller\n",
    "import matplotlib.pyplot as plt\n",
    "import seaborn as sns   \n",
    "import math"
   ]
  },
  {
   "cell_type": "markdown",
   "id": "da5c764a",
   "metadata": {},
   "source": [
    "## 1.3. Аномалии\n",
    "<ol>\n",
    "    <li>Есть ли в рядах выбросы?</li>\n",
    "    <li>Как выбросы могут повлиять на прогнозирование?</li>\n",
    "    <li>Что с ними можно сделать?</li>\n",
    "</ol>"
   ]
  },
  {
   "cell_type": "code",
   "execution_count": 17,
   "id": "985ed7b1",
   "metadata": {},
   "outputs": [],
   "source": [
    "import gc\n",
    "import sys\n",
    "import warnings\n",
    "from joblib import Parallel, delayed\n",
    "from pathlib import Path\n",
    "\n",
    "import ipywidgets as widgets\n",
    "import matplotlib.pyplot as plt\n",
    "import numpy as np\n",
    "import pandas as pd\n",
    "import seaborn as sns\n",
    "from sklearn.model_selection import train_test_split\n",
    "from statsmodels.tsa.deterministic import (CalendarFourier,\n",
    "                                           CalendarSeasonality,\n",
    "                                           CalendarTimeTrend,\n",
    "                                           DeterministicProcess)\n",
    "\n",
    "import tensorflow as tf\n",
    "from tensorflow import keras\n",
    "from tensorflow.keras import layers\n",
    "import heapq\n",
    "from statsmodels.tsa.stattools import adfuller\n",
    "import matplotlib.pyplot as plt\n",
    "import seaborn as sns   \n",
    "import math"
   ]
  },
  {
   "cell_type": "code",
   "execution_count": 18,
   "id": "6148a257",
   "metadata": {},
   "outputs": [],
   "source": [
    "import numpy as np\n",
    "names = list(df_products)\n",
    "def modify_zscore (df): # для определения выбросов посчитаем модифицированную z-оценку\n",
    "    # которая показывает распределения исходя из медианы, а не среднего\n",
    "    # это нужно, потому что не все наши переменные распределены близко к нормальному закону\n",
    "    median = np.median(df)\n",
    "    deviation_from_median = np.array(df)-median\n",
    "    mad = np.median(np.abs(deviation_from_median))\n",
    "    mod_zscore = (0.6745*deviation_from_median)/(mad)\n",
    "    return mod_zscore\n"
   ]
  },
  {
   "cell_type": "code",
   "execution_count": null,
   "id": "f36f3166",
   "metadata": {
    "scrolled": true
   },
   "outputs": [],
   "source": [
    "import matplotlib.pyplot as plt\n",
    "import math\n",
    "from pathlib import Path\n",
    "import matplotlib.pyplot as plt\n",
    "import pandas as pd\n",
    "from sklearn.preprocessing import LabelEncoder\n",
    "from statsmodels.tsa.deterministic import CalendarFourier,DeterministicProcess\n",
    "from warnings import simplefilter\n",
    "\n",
    "# визуализируем выбросы для каждого ряда\n",
    "def plot_anomaly(score_data, threshold, ax, threshold_2):\n",
    "    score_data = score_data.copy().values\n",
    "    ranks = np.linspace(1, len(score_data), len(score_data))\n",
    "    ranks = pd.DataFrame(ranks)\n",
    "    ranks.index=df_products.index\n",
    "    mask_outliers = (score_data>threshold)\n",
    "    mask_outliers_2 = (score_data<threshold_2)\n",
    "    _, ax = plt.subplots(figsize=(15,6))\n",
    "    ax.plot(ranks[mask_outliers], score_data[mask_outliers], 'o', color='red', label='Аномалии ')\n",
    "    ax.plot(ranks[~mask_outliers], score_data[~mask_outliers], 'o', color='forestgreen')\n",
    "    ax.plot(ranks[mask_outliers_2], score_data[mask_outliers_2], 'o', color='red')\n",
    "    ax.axhline(threshold, color='red', label='Таргет-линии', alpha=0.5)\n",
    "    ax.axhline(threshold_2, color='red', alpha=0.5)\n",
    "    ax.legend(loc='upper right')\n",
    "    plt.show()\n",
    "\n",
    "i,j=0,0\n",
    "for col in df_products.columns:\n",
    "    plot_anomaly(pd.DataFrame(modify_zscore(df_products[col]), index = df_products.index), 3.5, ax=axs[i][j], threshold_2=-2.5)"
   ]
  },
  {
   "cell_type": "code",
   "execution_count": 21,
   "id": "f174e251",
   "metadata": {},
   "outputs": [],
   "source": [
    "# обработка выбросов. Заменим их данными из соответствующих квантилей\n",
    "for col in df_products.columns:\n",
    "    score_data = pd.DataFrame(modify_zscore(df_products[col]), index = df_products.index)\n",
    "    df_products['mask'] = score_data\n",
    "    df_products[col] = df_products[col].mask(df_products['mask'] > 3.5, df_products[col].quantile(0.95))\n",
    "    df_products[col] = df_products[col].mask(df_products['mask'] < -2.5, df_products[col].quantile(0.05))\n",
    "\n",
    "score_data = pd.DataFrame(modify_zscore(df_products['product_25']), index = df_products.index)\n",
    "df_products['mask'] = score_data\n",
    "df_products['product_25'] = df_products['product_25'].mask(df_products['mask'] > 3.5, df_products['product_25'].quantile(0.9))\n",
    "df_products['product_25'] = df_products['product_25'].mask(df_products['mask'] < -2.5, df_products['product_25'].quantile(0.05))\n",
    "\n",
    "score_data = pd.DataFrame(modify_zscore(df_products['product_36']), index = df_products.index)\n",
    "df_products['mask'] = score_data\n",
    "df_products['product_36'] = df_products['product_36'].mask(df_products['mask'] > 3.5, df_products['product_36'].quantile(0.90))\n",
    "df_products['product_36'] = df_products['product_36'].mask(df_products['mask'] < -2.5, df_products['product_36'].quantile(0.45))\n",
    "df_products = df_products.drop('mask', axis=1)\n"
   ]
  },
  {
   "cell_type": "code",
   "execution_count": null,
   "id": "6b9e126c",
   "metadata": {},
   "outputs": [],
   "source": [
    "# и снова визуализирум, чтобы убидеиться \n",
    "for col in df_products.columns: # что выбросы были преобразованы\n",
    "    plot_anomaly(pd.DataFrame(modify_zscore(df_products[col]), index = df_products.index), 3.5, ax=axs[i][j], threshold_2=-2.5)"
   ]
  },
  {
   "cell_type": "code",
   "execution_count": null,
   "id": "fb4f4373",
   "metadata": {},
   "outputs": [],
   "source": []
  },
  {
   "cell_type": "markdown",
   "id": "1e751dd0",
   "metadata": {},
   "source": [
    "## 1.4. Взаимосвязь рядов\n",
    "<ol>\n",
    "    <li>Коррелируют ли ряды между собой?</li>\n",
    "    <li>Можно ли как-то это использовать? Если да, как? Если нет, почему?</li>\n",
    "</ol>"
   ]
  },
  {
   "cell_type": "markdown",
   "id": "245c5024",
   "metadata": {},
   "source": [
    "### Как мы выяснили ранее во время EDA, определенные ряды коррелируют между собой. "
   ]
  },
  {
   "cell_type": "code",
   "execution_count": null,
   "id": "be439afe",
   "metadata": {},
   "outputs": [],
   "source": [
    "# помимо корреляции мы можем оценить, воздействуют ли определенные ряды в прошлом на другие ряды в будущем\n",
    "# в этом нам поможет тест Гренджера на причинность и Йохансена на коллинеарность\n",
    "from statsmodels.tsa.stattools import grangercausalitytests\n",
    "maxlag=25\n",
    "test = 'ssr_chi2test'\n",
    "def grangers_causation_matrix(data, variables, test='ssr_chi2test', verbose=False):\n",
    "    df = pd.DataFrame(np.zeros((len(variables), len(variables))), columns=variables, index=variables)\n",
    "    for c in df.columns:\n",
    "        for r in df.index:\n",
    "            test_result = grangercausalitytests(data[[r, c]], maxlag=maxlag, verbose=False)\n",
    "            p_values = [round(test_result[i+1][0][test][1],4) for i in range(maxlag)]\n",
    "            if verbose: print(f'Y = {r}, X = {c}, P Values = {p_values}')\n",
    "            min_p_value = np.min(p_values)\n",
    "            df.loc[r, c] = min_p_value\n",
    "    df.columns = [var + '_x' for var in variables]\n",
    "    df.index = [var + '_y' for var in variables]\n",
    "    return df\n",
    "# функция записывает p-уровень значимости теста Гренджера на причинность. Иными словами ряды с малыми значениями (до 0,05)\n",
    "# могут быть причинами других по принципе столбец_x причина строки_y.\n",
    "import plotly.express as px\n",
    "\n",
    "fig = px.imshow(grangers_causation_matrix(df_products, variables = df_products.columns), text_auto=True, aspect=\"auto\")\n",
    "fig.show()"
   ]
  },
  {
   "cell_type": "code",
   "execution_count": null,
   "id": "f405527e",
   "metadata": {},
   "outputs": [],
   "source": [
    "from statsmodels.tsa.vector_ar.vecm import coint_johansen\n",
    "\n",
    "def cointegration_test(df, alpha=0.05):\n",
    "    out = coint_johansen(df,-1,5)\n",
    "    d = {'0.90':0, '0.95':1, '0.99':2}\n",
    "    traces = out.lr1\n",
    "    cvts = out.cvt[:, d[str(1-alpha)]]\n",
    "    def adjust(val, length= 6): return str(val).ljust(length)\n",
    "    print('Name   ::  Test Stat > C(95%)    =>   Signif  \\n', '--'*20)\n",
    "    for col, trace, cvt in zip(df.columns, traces, cvts):\n",
    "        print(adjust(col), ':: ', adjust(round(trace,2), 9), \">\", adjust(cvt, 8), ' =>  ' , trace > cvt)\n",
    "\n",
    "cointegration_test(df_products) # можно считать достоверными оценки причинности по Гренджеру для тех переменных\n",
    "# для которых оценки теста Йохансена = True"
   ]
  },
  {
   "cell_type": "code",
   "execution_count": null,
   "id": "b0ece15f",
   "metadata": {},
   "outputs": [],
   "source": [
    "# посмотрим на попарные распределения наших переменных\n",
    "import scipy.signal as signal\n",
    "import seaborn as sns\n",
    "from scipy.stats import pearsonr\n",
    "import matplotlib.pyplot as plt \n",
    "\n",
    "g = sns.pairplot(df_products)\n",
    "\n",
    "plt.show()"
   ]
  },
  {
   "cell_type": "markdown",
   "id": "b84d8a10",
   "metadata": {},
   "source": [
    "## 1.5. Акции\n",
    "<ol>\n",
    "    <li>Что из себя представляет датасет с акциями?</li>\n",
    "    <li>Как часто происходит каждая акция?</li>\n",
    "    <li>Рекламная акция для какого-то продукта влияет на его продажи. Может ли она повлиять на продажи других продуктов?</li>\n",
    "    <li>Есть ли акции, которые пересекаются по времени? Могут ли сразу несколько акций повлиять на один продукт?</li>\n",
    "</ol>"
   ]
  },
  {
   "cell_type": "code",
   "execution_count": null,
   "id": "a2f80819",
   "metadata": {},
   "outputs": [],
   "source": [
    "!pip install pycausalimpact"
   ]
  },
  {
   "cell_type": "code",
   "execution_count": 137,
   "id": "2ad45cbb",
   "metadata": {},
   "outputs": [
    {
     "name": "stdout",
     "output_type": "stream",
     "text": [
      "<class 'pandas.core.frame.DataFrame'>\n",
      "Index: 1095 entries, 2016-01-01 to 2018-12-30\n",
      "Columns: 1000 entries, promotion_0 to promotion_999\n",
      "dtypes: float64(1000)\n",
      "memory usage: 8.4+ MB\n"
     ]
    }
   ],
   "source": [
    "import numpy as np\n",
    "import pandas as pd\n",
    "import matplotlib.pyplot as plt\n",
    "import causalimpact\n",
    "df_promotions.info() # информация о наборе данных промоакций"
   ]
  },
  {
   "cell_type": "code",
   "execution_count": null,
   "id": "1d1786a7",
   "metadata": {},
   "outputs": [],
   "source": [
    "# посмотрим на частоту акций во времени\n",
    "df_promotions.reset_index(inplace=True) \n",
    "df_promo = df_promotions.melt(id_vars=['index'],\n",
    "             var_name = 'name',\n",
    "             value_name = 'promo') # преобразуем широкие данные в длинные\n",
    "\n",
    "fig = px.scatter(df_promo, x=\"index\", y=\"name\", color=\"promo\")\n",
    "\n",
    "fig.update_xaxes(rangeslider_visible=True, \n",
    "                 title_text = \"Дата\", \n",
    "                 title_standoff = 25, \n",
    "                 rangeselector=dict(\n",
    "                     buttons=list([\n",
    "                         dict(count=1, label=\"1м\", step=\"month\", stepmode=\"backward\"),\n",
    "                         dict(count=6, label=\"6м\", step=\"month\", stepmode=\"backward\"),\n",
    "                         dict(count=1, label=\"1г\", step=\"year\", stepmode=\"backward\"),\n",
    "                         dict(label=\"все\", step=\"all\")])))\n",
    "fig.update_layout(\n",
    "    autosize=False,\n",
    "    width=800,\n",
    "    height=800)\n",
    "fig.show() \n",
    "# как можно заметить, есть множество пересечений, частота промоакций различная, они пересекаются\n",
    "# отсюда можно сделать вывод, что акции могут воздействовать на несколько продуктов сразу \n",
    "# кроме того, фундаментально, не зная природу акций, оценить их воздействие на явно сезонные переменные будет затруднительно, а большого эффекта они не окажут"
   ]
  },
  {
   "cell_type": "code",
   "execution_count": null,
   "id": "2a4b96de",
   "metadata": {},
   "outputs": [],
   "source": [
    "def get_redundant_pairs(df):\n",
    "    '''Без дублирования'''\n",
    "    pairs_to_drop = set()\n",
    "    cols = df.columns\n",
    "    for i in range(0, df.shape[1]):\n",
    "        for j in range(0, i+1):\n",
    "            pairs_to_drop.add((cols[i], cols[j]))\n",
    "    return pairs_to_drop\n",
    "\n",
    "def get_top_abs_correlations(df, max, min):\n",
    "    '''Получим топ коррелируемых переменных'''\n",
    "    au_corr = df.corr().unstack()\n",
    "    labels_to_drop = get_redundant_pairs(df)\n",
    "    au_corr = au_corr.drop(labels=labels_to_drop).sort_values(ascending=False)\n",
    "    filtercorr = au_corr[((au_corr >= max) & (au_corr <= min)) | ((au_corr <= - max ) & (au_corr >= - min)) & (au_corr !=1.000)]\n",
    "    au_corr = filtercorr.unstack(level=0)\n",
    "    fig = px.imshow(au_corr, text_auto=True, aspect=\"auto\")\n",
    "    fig.update_layout(font=dict(size=8))\n",
    "    fig.show()\n",
    "\n",
    "print(\"Топ очень высоких корреляций переменных\")\n",
    "get_top_abs_correlations(reshapepromo, 0.9, 0.999999)\n",
    "print(\"Топ высоких корреляций переменных\")\n",
    "get_top_abs_correlations(reshapepromo, 0.7, 0.899999)\n",
    "print(\"Топ средних корреляций переменных\")\n",
    "get_top_abs_correlations(reshapepromo, 0.5, 0.699999)"
   ]
  },
  {
   "cell_type": "code",
   "execution_count": null,
   "id": "2a43f69a",
   "metadata": {},
   "outputs": [],
   "source": [
    "def corr(df1, df2):\n",
    "    n = len(df1)\n",
    "    v1, v2 = df1.values, df2.values\n",
    "    sums = np.multiply.outer(v2.sum(0), v1.sum(0))\n",
    "    stds = np.multiply.outer(v2.std(0), v1.std(0))\n",
    "    return pd.DataFrame((v2.T.dot(v1) - sums / n) / stds / n,\n",
    "                        df2.columns, df1.columns)\n",
    "\n",
    "reshapepromo = df_promotions[:-24]\n",
    "reshapepromo = reshapepromo.iloc[:, 1:1001]\n",
    "df_concat_corr = corr(df_products, reshapepromo)\n",
    "au_corr = df_concat_corr.unstack()\n",
    "filtercorr = au_corr[((au_corr >= .6) | (au_corr <= -.6)) & (au_corr !=1.000)]\n",
    "au_corr = filtercorr.unstack(level=0)\n",
    "fig = px.imshow(au_corr, text_auto=True, aspect=\"auto\")\n",
    "fig.update_layout(font=dict(size=8))\n",
    "print(\"Топ корреляций переменных\")\n",
    "fig.show()"
   ]
  },
  {
   "cell_type": "code",
   "execution_count": null,
   "id": "ef9470c4",
   "metadata": {},
   "outputs": [],
   "source": [
    "def promo_len (df): # как посчитать последоватлеьность длительности акций..?\n",
    "    "
   ]
  },
  {
   "cell_type": "markdown",
   "id": "5d11f003",
   "metadata": {},
   "source": [
    "## 1.6. Ваш ход\n",
    "Может быть, есть еще что-то интересное, чего мы не заметили? :)"
   ]
  },
  {
   "cell_type": "markdown",
   "id": "73cea0d2",
   "metadata": {},
   "source": [
    "***\n",
    "# 2. Прогнозирование\n",
    "В этом блоке предлагается построить прогноз на указанный промежуток времени и ответить на вопросы о метриках и валидации результатов.\n",
    "\n",
    "<i>Возможно, в этом блоке не получится разбить код на предложенные части; в таком случае следует оставить максимально подробный комментарий к происходящему. </i>"
   ]
  },
  {
   "cell_type": "code",
   "execution_count": 11,
   "id": "4fa21b43",
   "metadata": {},
   "outputs": [],
   "source": [
    "HORIZON = 24 # горизонт прогнозирования"
   ]
  },
  {
   "cell_type": "markdown",
   "id": "2175ddf0",
   "metadata": {},
   "source": [
    "## 2.1. Пайплайн прогнозирования\n",
    "### 2.1.1. Подготовка данных\n",
    "<ol>\n",
    "    <li>Нужно ли как-то предобрабатывать ряды из датасета?</li>\n",
    "    <li>Какие признаки можно выделить из данных?</li>\n",
    "    <li>Какие признаки можно извлечь из индекса timestamp?</li>\n",
    "    <li>Как использовать данные об акциях?</li>\n",
    "    <li>*Есть ли среди выделенных признаков categorical признаки? Если есть, как с ними работать?</li>\n",
    "</ol>\n",
    "\n",
    "### 2.1.2. Модель\n",
    "Какие модели прогнозирования могут помочь в нашей задаче? В чем их особенности, плюсы и минусы?"
   ]
  },
  {
   "cell_type": "code",
   "execution_count": 46,
   "id": "3414f3ae",
   "metadata": {},
   "outputs": [],
   "source": [
    "products = list(df_products.iloc[:,1:30].columns)\n",
    "promo = list(reshapepromo.columns)\n",
    "dataset_1 = pd.concat([df_products, reshapepromo], axis = 1) # на случай важных переговоров"
   ]
  },
  {
   "cell_type": "code",
   "execution_count": 63,
   "id": "9d4f5439",
   "metadata": {},
   "outputs": [],
   "source": [
    "def univariate_data(dataset, start_index, end_index, history_size, target_size):\n",
    "    data = []\n",
    "    labels = []\n",
    "    start_index = start_index + history_size\n",
    "    if end_index is None:\n",
    "        end_index = len(dataset) - target_size\n",
    "    for i in range(start_index, end_index):\n",
    "        indices = range(i-history_size, i)\n",
    "        # Reshape data from (history_size,) to (history_size, 1)\n",
    "        data.append(np.reshape(dataset[indices], (history_size, 1)))\n",
    "        labels.append(dataset[i+target_size])\n",
    "    return np.array(data), np.array(labels)\n",
    "\n",
    "TRAIN_SPLIT = 1000\n",
    "tf.random.set_seed(13)\n",
    "def create_time_steps(length):\n",
    "    return list(range(-length, 0))\n",
    "\n",
    "def show_plot(plot_data, delta, title):\n",
    "    labels = ['History', 'True Future', 'Model Prediction']\n",
    "    marker = ['.-', 'rx', 'go']\n",
    "    time_steps = create_time_steps(plot_data[0].shape[0])\n",
    "    if delta:\n",
    "        future = delta\n",
    "    else:\n",
    "        future = 0\n",
    "    plt.title(title)\n",
    "    for i, x in enumerate(plot_data):\n",
    "        if i:\n",
    "            plt.plot(future, plot_data[i], marker[i], markersize=10,\n",
    "               label=labels[i])\n",
    "        else:\n",
    "            plt.plot(time_steps, plot_data[i].flatten(), marker[i], label=labels[i])\n",
    "    plt.legend()\n",
    "    plt.xlim([time_steps[0], (future+5)*2])\n",
    "    plt.xlabel('Time-Step')\n",
    "    return plt\n",
    "\n",
    "BATCH_SIZE = 256\n",
    "BUFFER_SIZE = 10000\n",
    "\n",
    "EVALUATION_INTERVAL = 20\n",
    "EPOCHS = 10\n",
    "\n",
    "dataset = df_products.values\n",
    "dataset = dataset[:TRAIN_SPLIT]\n",
    "\n",
    "def multivariate_data(dataset, target, start_index, end_index, history_size,\n",
    "                      target_size, step, single_step=False):\n",
    "    data = []\n",
    "    labels = []\n",
    "    start_index = start_index + history_size\n",
    "    if end_index is None:\n",
    "        end_index = len(dataset) - target_size\n",
    "    for i in range(start_index, end_index):\n",
    "        indices = range(i-history_size, i, step)\n",
    "        data.append(dataset[indices])\n",
    "        if single_step:\n",
    "            labels.append(target[i+target_size])\n",
    "        else:\n",
    "            labels.append(target[i:i+target_size])\n",
    "    return np.array(data).astype('float32'), np.array(labels, dtype=object)\n",
    "\n",
    "past_history = 900\n",
    "future_target = 71\n",
    "STEP = 1"
   ]
  },
  {
   "cell_type": "code",
   "execution_count": 68,
   "id": "8821898e",
   "metadata": {},
   "outputs": [
    {
     "data": {
      "text/plain": [
       "(1071, 30)"
      ]
     },
     "execution_count": 68,
     "metadata": {},
     "output_type": "execute_result"
    }
   ],
   "source": [
    "dataset=df_products.values\n",
    "dataset.shape"
   ]
  },
  {
   "cell_type": "code",
   "execution_count": 69,
   "id": "63cfeb68",
   "metadata": {},
   "outputs": [
    {
     "name": "stdout",
     "output_type": "stream",
     "text": [
      "Single window of past history : (900, 30)\n",
      "\n",
      " Target temperature to predict : (71,)\n"
     ]
    }
   ],
   "source": [
    "\n",
    "x_train_multi, y_train_multi = multivariate_data(dataset, dataset[:, 1], 0,\n",
    "                                                 TRAIN_SPLIT, past_history,\n",
    "                                                 future_target, STEP)\n",
    "x_val_multi, y_val_multi = multivariate_data(dataset, dataset[:, 1],\n",
    "                                             0, TRAIN_SPLIT, past_history,\n",
    "                                             future_target, STEP)\n",
    "print ('Single window of past history : {}'.format(x_train_multi[0].shape))\n",
    "print ('\\n Target temperature to predict : {}'.format(y_train_multi[0].shape))"
   ]
  },
  {
   "cell_type": "code",
   "execution_count": 85,
   "id": "75caf9b3",
   "metadata": {},
   "outputs": [],
   "source": [
    "train_data_multi = tf.data.Dataset.from_tensor_slices((x_train_multi.astype('float32'), y_train_multi.astype('float32')))\n",
    "train_data_multi = train_data_multi.cache().batch(BATCH_SIZE).repeat()\n",
    "\n",
    "val_data_multi = tf.data.Dataset.from_tensor_slices((x_val_multi.astype('float32'), y_val_multi.astype('float32')))\n",
    "val_data_multi = val_data_multi.batch(BATCH_SIZE).repeat()\n",
    "\n"
   ]
  },
  {
   "cell_type": "code",
   "execution_count": 76,
   "id": "3fc563aa",
   "metadata": {},
   "outputs": [
    {
     "data": {
      "text/plain": [
       "<RepeatDataset element_spec=(TensorSpec(shape=(None, 900, 30), dtype=tf.float32, name=None), TensorSpec(shape=(None, 71), dtype=tf.float32, name=None))>"
      ]
     },
     "execution_count": 76,
     "metadata": {},
     "output_type": "execute_result"
    }
   ],
   "source": [
    "train_data_multi"
   ]
  },
  {
   "cell_type": "code",
   "execution_count": null,
   "id": "88889597",
   "metadata": {},
   "outputs": [],
   "source": [
    "def multi_step_plot(history, true_future, prediction):\n",
    "    plt.figure(figsize=(12, 6))\n",
    "    num_in = create_time_steps(len(history))\n",
    "    num_out = len(true_future)\n",
    "    plt.plot(num_in, np.array(history[:, 1]), label='History')\n",
    "    plt.plot(np.arange(num_out)/STEP, np.array(true_future), 'bo',\n",
    "           label='True Future')\n",
    "    if prediction.any():\n",
    "        plt.plot(np.arange(num_out)/STEP, np.array(prediction), 'purple',\n",
    "             label='Predicted Future')\n",
    "        plt.legend(loc='upper left')\n",
    "    plt.show()\n",
    "    \n",
    "for x, y in train_data_multi.take(1):\n",
    "    multi_step_plot(x[0], y[0], np.array([0]))"
   ]
  },
  {
   "cell_type": "code",
   "execution_count": 35,
   "id": "62cb2052",
   "metadata": {},
   "outputs": [
    {
     "name": "stdout",
     "output_type": "stream",
     "text": [
      "4/4 [==============================] - 1s 140ms/step\n",
      "(100, 71)\n"
     ]
    }
   ],
   "source": [
    "multi_step_model = tf.keras.models.Sequential()\n",
    "multi_step_model.add(tf.keras.layers.LSTM(32, return_sequences=True, input_shape=x_train_multi.shape[-2:]))\n",
    "multi_step_model.add(tf.keras.layers.LSTM(16, activation='relu'))\n",
    "multi_step_model.add(tf.keras.layers.Dense(71))\n",
    "\n",
    "multi_step_model.compile(optimizer=tf.keras.optimizers.RMSprop(clipvalue=1.0), loss='mae')\n",
    "for x, y in val_data_multi.take(1):\n",
    "    print (multi_step_model.predict(x).shape)\n"
   ]
  },
  {
   "cell_type": "code",
   "execution_count": 36,
   "id": "9da47f25",
   "metadata": {},
   "outputs": [
    {
     "name": "stdout",
     "output_type": "stream",
     "text": [
      "Epoch 1/10\n",
      "200/200 [==============================] - 149s 733ms/step - loss: 271615049728.0000 - val_loss: 0.3290\n",
      "Epoch 2/10\n",
      "200/200 [==============================] - 153s 766ms/step - loss: 0.3023 - val_loss: 0.2900\n",
      "Epoch 3/10\n",
      "200/200 [==============================] - 149s 746ms/step - loss: 0.2759 - val_loss: 0.2625\n",
      "Epoch 4/10\n",
      "200/200 [==============================] - 151s 757ms/step - loss: 0.2512 - val_loss: 0.2455\n",
      "Epoch 5/10\n",
      "200/200 [==============================] - 147s 737ms/step - loss: 0.2378 - val_loss: 0.2328\n",
      "Epoch 6/10\n",
      "200/200 [==============================] - 321s 2s/step - loss: 0.2318 - val_loss: 0.2285\n",
      "Epoch 7/10\n",
      "200/200 [==============================] - 153s 764ms/step - loss: 0.2283 - val_loss: 0.2256\n",
      "Epoch 8/10\n",
      "200/200 [==============================] - 148s 743ms/step - loss: 0.2256 - val_loss: 0.2238\n",
      "Epoch 9/10\n",
      "200/200 [==============================] - 145s 728ms/step - loss: 0.2232 - val_loss: 0.2217\n",
      "Epoch 10/10\n",
      "200/200 [==============================] - 147s 733ms/step - loss: 0.2211 - val_loss: 0.2205\n"
     ]
    }
   ],
   "source": [
    "multi_step_history = multi_step_model.fit(train_data_multi, epochs=EPOCHS,\n",
    "                                          steps_per_epoch=EVALUATION_INTERVAL,\n",
    "                                          validation_data=val_data_multi,\n",
    "                                          validation_steps=1)"
   ]
  },
  {
   "cell_type": "code",
   "execution_count": 45,
   "id": "65183245",
   "metadata": {},
   "outputs": [
    {
     "data": {
      "image/png": "[encoded data removed]",
      "text/plain": [
       "<Figure size 640x480 with 1 Axes>"
      ]
     },
     "metadata": {},
     "output_type": "display_data"
    }
   ],
   "source": [
    "def plot_train_history(history, title):\n",
    "    loss = history.history['loss']\n",
    "    val_loss = history.history['val_loss']\n",
    "    epochs = range(len(loss))\n",
    "    plt.figure()\n",
    "    plt.plot(epochs, loss, 'forestgreen', label='На этапах обучения')\n",
    "    plt.plot(epochs, val_loss, 'purple', label='На этапах проверки')\n",
    "    plt.title(title)\n",
    "    plt.legend()\n",
    "    plt.xlim (0, 9)\n",
    "    plt.ylim (0.2, 0.4)\n",
    "    plt.show()\n",
    "\n",
    "plot_train_history(multi_step_history, 'Потери')"
   ]
  },
  {
   "cell_type": "code",
   "execution_count": null,
   "id": "fc63ae7e",
   "metadata": {},
   "outputs": [],
   "source": [
    "for x, y in val_data_multi.take(30):\n",
    "    multi_step_plot(x[0], y[0], multi_step_model.predict(x)[0])"
   ]
  },
  {
   "cell_type": "code",
   "execution_count": 62,
   "id": "0b66816a",
   "metadata": {},
   "outputs": [
    {
     "data": {
      "text/plain": [
       "array([], dtype=float64)"
      ]
     },
     "execution_count": 62,
     "metadata": {},
     "output_type": "execute_result"
    }
   ],
   "source": [
    "train_df,test_df = df_products[1:1000], df_products[1000:] \n",
    "n_features = 30\n",
    "def split_series(series, past_history, future_target):\n",
    "    X, y = list(), list()\n",
    "    for window_start in range(len(series)):\n",
    "        past_end = window_start + past_history\n",
    "        future_end = past_end + future_target\n",
    "        if future_end > len(series):\n",
    "            break\n",
    "        past, future = series[window_start:past_end, :], series[past_end:future_end, :]\n",
    "        X.append(past)\n",
    "        y.append(future)\n",
    "    return np.array(X), np.array(y)\n",
    "\n",
    "X_train, y_train = split_series(train_df.values,900, 100)\n",
    "X_train = X_train.reshape((X_train.shape[0], X_train.shape[1],n_features))\n",
    "y_train = y_train.reshape((y_train.shape[0], y_train.shape[1], n_features))\n",
    "X_test, y_test = split_series(test_df.values,71, 0)\n",
    "X_test = X_test.reshape((X_test.shape[0], X_test.shape[1],n_features))\n",
    "y_test = y_test.reshape((y_test.shape[0], y_test.shape[1], n_features))"
   ]
  },
  {
   "cell_type": "code",
   "execution_count": 78,
   "id": "75ecc47e",
   "metadata": {},
   "outputs": [],
   "source": [
    "multi_step_model = tf.keras.models.Sequential()\n",
    "multi_step_model.add(tf.keras.layers.LSTM(32, return_sequences=True, input_shape=x_train_multi.shape[-2:]))"
   ]
  },
  {
   "cell_type": "code",
   "execution_count": 33,
   "id": "87ba5ed9",
   "metadata": {},
   "outputs": [
    {
     "data": {
      "text/plain": [
       "<TakeDataset element_spec=(TensorSpec(shape=(None, 900, 30), dtype=tf.float64, name=None), TensorSpec(shape=(None, 71), dtype=tf.float64, name=None))>"
      ]
     },
     "execution_count": 33,
     "metadata": {},
     "output_type": "execute_result"
    }
   ],
   "source": [
    "val_data_multi.take(1)"
   ]
  },
  {
   "cell_type": "code",
   "execution_count": null,
   "id": "48f36fb9",
   "metadata": {},
   "outputs": [],
   "source": [
    "multi_step_history = multi_step_model.fit(train_data_multi, epochs=EPOCHS,\n",
    "                                          steps_per_epoch=EVALUATION_INTERVAL,\n",
    "                                          validation_data=val_data_multi,\n",
    "                                          validation_steps=50)"
   ]
  },
  {
   "cell_type": "code",
   "execution_count": null,
   "id": "a869e4b7",
   "metadata": {},
   "outputs": [],
   "source": []
  },
  {
   "cell_type": "code",
   "execution_count": null,
   "id": "ab0e4659",
   "metadata": {},
   "outputs": [],
   "source": [
    "from math import sqrt\n",
    "from numpy import concatenate\n",
    "from matplotlib import pyplot\n",
    "from pandas import read_csv\n",
    "from pandas import DataFrame\n",
    "from pandas import concat\n",
    "from sklearn.preprocessing import MinMaxScaler\n",
    "from sklearn.preprocessing import LabelEncoder\n",
    "from sklearn.metrics import mean_squared_error\n",
    "from keras.models import Sequential\n",
    "from keras.layers import Dense\n",
    "from keras.layers import LSTM\n",
    "# convert series to supervised learning\n",
    "def series_to_supervised(data, n_in=1, n_out=1, dropnan=True):\n",
    "    n_vars = 1 if type(data) is list else data.shape[1]\n",
    "    df = DataFrame(data)\n",
    "    cols, names = list(), list()\n",
    "    # input sequence (t-n, ... t-1)\n",
    "    for i in range(n_in, 0, -1):\n",
    "        cols.append(df.shift(i))\n",
    "        names += [('prod%d(t-%d)' % (j+1, i)) for j in range(n_vars)]\n",
    "        # forecast sequence (t, t+1, ... t+n)\n",
    "    for i in range(0, n_out):\n",
    "        cols.append(df.shift(-i))\n",
    "        if i == 0:\n",
    "            names += [('prod%d(t)' % (j+1)) for j in range(n_vars)]\n",
    "        else:\n",
    "            names += [('prod%d(t+%d)' % (j+1, i)) for j in range(n_vars)]\n",
    "            # put it all together\n",
    "    agg = concat(cols, axis=1)\n",
    "    agg.columns = names\n",
    "    # drop rows with NaN values\n",
    "    if dropnan:\n",
    "        agg.dropna(inplace=True)\n",
    "    return agg\n",
    " \n",
    "# load dataset\n",
    "dataset = df_products\n",
    "values = dataset.values\n",
    "# integer encode direction\n",
    "encoder = LabelEncoder()\n",
    "values[:,4] = encoder.fit_transform(values[:,4])\n",
    "# ensure all data is float\n",
    "values = values.astype('float32')\n",
    "# frame as supervised learning\n",
    "reframed = series_to_supervised(values, 1, 1)\n",
    "reframed.index = df_products.iloc[:-1].index\n",
    "print(reframed.head())"
   ]
  },
  {
   "cell_type": "code",
   "execution_count": 39,
   "id": "84ccbf64",
   "metadata": {},
   "outputs": [
    {
     "name": "stdout",
     "output_type": "stream",
     "text": [
      "(909, 1, 59) (909,) (161, 1, 59) (161,)\n"
     ]
    }
   ],
   "source": [
    "# split into train and test sets\n",
    "values = reframed.values\n",
    "train_size = int(0.85 * len(values))\n",
    "train = values[:train_size, :]\n",
    "test = values[train_size:, :]\n",
    "# split into input and outputs\n",
    "train_X, train_y = train[:, :-1], train[:, -1]\n",
    "test_X, test_y = test[:, :-1], test[:, -1]\n",
    "# reshape input to be 3D [samples, timesteps, features]\n",
    "train_X = train_X.reshape((train_X.shape[0], 1, train_X.shape[1]))\n",
    "test_X = test_X.reshape((test_X.shape[0], 1, test_X.shape[1]))\n",
    "print(train_X.shape, train_y.shape, test_X.shape, test_y.shape)"
   ]
  },
  {
   "cell_type": "code",
   "execution_count": 52,
   "id": "d67c17d9",
   "metadata": {},
   "outputs": [],
   "source": [
    "BATCH_SIZE = 256\n",
    "BUFFER_SIZE = 10000\n",
    "\n",
    "train_data_multi = tf.data.Dataset.from_tensor_slices((train_X, train_y))\n",
    "train_data_multi = train_data_multi.cache().shuffle(BUFFER_SIZE).batch(BATCH_SIZE).repeat()\n",
    "\n",
    "val_data_multi = tf.data.Dataset.from_tensor_slices((test_X, test_y))\n",
    "val_data_multi = val_data_multi.batch(BATCH_SIZE).repeat()"
   ]
  },
  {
   "cell_type": "code",
   "execution_count": 53,
   "id": "9390bfd5",
   "metadata": {},
   "outputs": [
    {
     "data": {
      "text/plain": [
       "<RepeatDataset element_spec=(TensorSpec(shape=(None, 1, 59), dtype=tf.float32, name=None), TensorSpec(shape=(None,), dtype=tf.float32, name=None))>"
      ]
     },
     "execution_count": 53,
     "metadata": {},
     "output_type": "execute_result"
    }
   ],
   "source": [
    "train_data_multi"
   ]
  },
  {
   "cell_type": "code",
   "execution_count": 56,
   "id": "84044c28",
   "metadata": {},
   "outputs": [],
   "source": [
    "def multi_step_plot(history, true_future, prediction):\n",
    "    plt.figure(figsize=(12, 6))\n",
    "    num_in = create_time_steps(len(history))\n",
    "    num_out = len(true_future)\n",
    "    plt.plot(num_in, np.array(history[:, 1]), label='History')\n",
    "    plt.plot(np.arange(num_out)/STEP, np.array(true_future), 'bo',\n",
    "           label='True Future')\n",
    "    if prediction.any():\n",
    "        plt.plot(np.arange(num_out)/STEP, np.array(prediction), 'ro',\n",
    "             label='Predicted Future')\n",
    "        plt.legend(loc='upper left')\n",
    "    plt.show()\n",
    "\n",
    "def create_time_steps(length):\n",
    "    return list(range(-length, 0))"
   ]
  },
  {
   "cell_type": "code",
   "execution_count": null,
   "id": "8fc5749e",
   "metadata": {},
   "outputs": [],
   "source": [
    "for x, y in train_data_multi.take(1):\n",
    "  multi_step_plot(x[0], y[0], np.array([0]))"
   ]
  },
  {
   "cell_type": "code",
   "execution_count": null,
   "id": "a023e09b",
   "metadata": {},
   "outputs": [],
   "source": [
    "multi_step_history = multi_step_model.fit(train_data_multi, epochs=EPOCHS,\n",
    "                                          steps_per_epoch=EVALUATION_INTERVAL,\n",
    "                                          validation_data=val_data_multi,\n",
    "                                          validation_steps=50)\n",
    "# design network\n",
    "model = Sequential()\n",
    "model.add(LSTM(50, input_shape=(train_X.shape[1], train_X.shape[2])))\n",
    "model.add(Dense(1))\n",
    "model.compile(loss='mae', optimizer='adam')\n",
    "# fit network\n",
    "history = model.fit(train_X, train_y, epochs=50, batch_size=72, validation_data=(test_X, test_y), verbose=2, shuffle=False)\n",
    "# plot history\n",
    "pyplot.plot(history.history['loss'], label='train')\n",
    "pyplot.plot(history.history['val_loss'], label='test')\n",
    "pyplot.legend()\n",
    "pyplot.show()"
   ]
  },
  {
   "cell_type": "code",
   "execution_count": 298,
   "id": "640622ef",
   "metadata": {},
   "outputs": [
    {
     "data": {
      "text/plain": [
       "(910, 5)"
      ]
     },
     "execution_count": 298,
     "metadata": {},
     "output_type": "execute_result"
    }
   ],
   "source": [
    "target_column = ['product_10']\n",
    "train_size = int(0.85 * len(df_products))\n",
    "\n",
    "multivariate_df = df_products[target_column + products].copy()\n",
    "multivariate_df.columns = ['y'] + products\n",
    "\n",
    "train = multivariate_df.iloc[:train_size, :]\n",
    "x_train, y_train = pd.DataFrame(multivariate_df.iloc[:train_size, [1,2,3,4,5]]), pd.DataFrame(multivariate_df.iloc[:train_size, 0])\n",
    "x_valid, y_valid = pd.DataFrame(multivariate_df.iloc[train_size:, [1,2,3,4,5]]), pd.DataFrame(multivariate_df.iloc[train_size:, 0])\n"
   ]
  },
  {
   "cell_type": "code",
   "execution_count": 300,
   "id": "92da0bae",
   "metadata": {},
   "outputs": [],
   "source": [
    "import tensorflow as tf\n",
    "\n",
    "import matplotlib as mpl\n",
    "import matplotlib.pyplot as plt\n",
    "import numpy as np\n",
    "import os\n",
    "import pandas as pd\n",
    "BATCH_SIZE = 256\n",
    "BUFFER_SIZE = 10000\n",
    "\n",
    "train_data_multi = tf.data.Dataset.from_tensor_slices((x_train, y_train))\n",
    "train_data_multi = train_data_multi.cache().shuffle(BUFFER_SIZE).batch(BATCH_SIZE).repeat()\n",
    "\n",
    "val_data_multi = tf.data.Dataset.from_tensor_slices((x_valid, y_valid))\n",
    "val_data_multi = val_data_multi.batch(BATCH_SIZE).repeat()\n",
    "\n"
   ]
  },
  {
   "cell_type": "code",
   "execution_count": 306,
   "id": "b068539c",
   "metadata": {},
   "outputs": [
    {
     "data": {
      "text/plain": [
       "<RepeatDataset element_spec=(TensorSpec(shape=(None, 5), dtype=tf.float64, name=None), TensorSpec(shape=(None, 1), dtype=tf.float64, name=None))>"
      ]
     },
     "execution_count": 306,
     "metadata": {},
     "output_type": "execute_result"
    }
   ],
   "source": [
    "train_data_multi"
   ]
  },
  {
   "cell_type": "code",
   "execution_count": 303,
   "id": "40143189",
   "metadata": {},
   "outputs": [],
   "source": [
    "def multi_step_plot(history, true_future, prediction):\n",
    "    plt.figure(figsize=(12, 6))\n",
    "    num_in = create_time_steps(len(history))\n",
    "    num_out = len(true_future)\n",
    "    plt.plot(num_in, np.array(history[:, 1]), label='History')\n",
    "    plt.plot(np.arange(num_out)/STEP, np.array(true_future), 'bo',\n",
    "           label='True Future')\n",
    "    if prediction.any():\n",
    "    plt.plot(np.arange(num_out)/STEP, np.array(prediction), 'ro',\n",
    "             label='Predicted Future')\n",
    "    plt.legend(loc='upper left')\n",
    "    plt.show()\n",
    "\n",
    "def create_time_steps(length):\n",
    "    return list(range(-length, 0))"
   ]
  },
  {
   "cell_type": "code",
   "execution_count": null,
   "id": "809798d8",
   "metadata": {},
   "outputs": [],
   "source": [
    "\n",
    "for x, y in train_data_multi.take(1):\n",
    "    multi_step_plot(x[0], y[0], np.array([0]))"
   ]
  },
  {
   "cell_type": "code",
   "execution_count": 308,
   "id": "ea45b1dd",
   "metadata": {},
   "outputs": [],
   "source": [
    "multi_step_model = tf.keras.models.Sequential()\n",
    "multi_step_model.add(tf.keras.layers.LSTM(32,\n",
    "                                          return_sequences=True,\n",
    "                                          input_shape=x_train.shape[-2:]))\n",
    "multi_step_model.add(tf.keras.layers.LSTM(16, activation='relu'))\n",
    "multi_step_model.add(tf.keras.layers.Dense(72))\n",
    "\n",
    "multi_step_model.compile(optimizer=tf.keras.optimizers.RMSprop(clipvalue=1.0), loss='mae')"
   ]
  },
  {
   "cell_type": "code",
   "execution_count": null,
   "id": "6b23c0d0",
   "metadata": {},
   "outputs": [],
   "source": []
  },
  {
   "cell_type": "code",
   "execution_count": null,
   "id": "0881497e",
   "metadata": {},
   "outputs": [],
   "source": []
  },
  {
   "cell_type": "code",
   "execution_count": null,
   "id": "f2651447",
   "metadata": {},
   "outputs": [],
   "source": []
  },
  {
   "cell_type": "code",
   "execution_count": null,
   "id": "7c26b16c",
   "metadata": {},
   "outputs": [],
   "source": [
    "train_df,test_df = df_products[1:1000], df_products[1000:] \n",
    "train = train_df\n",
    "scalers={}\n",
    "for i in train_df.columns:\n",
    "    scaler = MinMaxScaler(feature_range=(-1,1))\n",
    "    s_s = scaler.fit_transform(train[i].values.reshape(-1,1))\n",
    "    s_s=np.reshape(s_s,len(s_s))\n",
    "    scalers['scaler_'+ i] = scaler\n",
    "    train[i]=s_s\n",
    "test = test_df\n",
    "for i in train_df.columns:\n",
    "    scaler = scalers['scaler_'+i]\n",
    "    s_s = scaler.transform(test[i].values.reshape(-1,1))\n",
    "    s_s=np.reshape(s_s,len(s_s))\n",
    "    scalers['scaler_'+i] = scaler\n",
    "    test[i]=s_s\n"
   ]
  },
  {
   "cell_type": "code",
   "execution_count": null,
   "id": "7e5cd913",
   "metadata": {},
   "outputs": [],
   "source": [
    "def split_series(series, n_past, n_future):\n",
    "    X, y = list(), list()\n",
    "    for window_start in range(len(series)):\n",
    "        past_end = window_start + n_past\n",
    "        future_end = past_end + n_future\n",
    "        if future_end > len(series): \n",
    "            break\n",
    "        past, future = series[window_start:past_end, :], series[past_end:future_end, :]\n",
    "        X.append(past)\n",
    "        y.append(future)\n",
    "    return np.array(X), np.array(y)\n",
    "\n",
    "n_past = 929\n",
    "n_future = 71 \n",
    "n_features = 30\n",
    "\n",
    "X_train, y_train = split_series(train.values,n_past, n_future)\n",
    "X_train = X_train.reshape((X_train.shape[0], X_train.shape[1],n_features))\n",
    "y_train = y_train.reshape((y_train.shape[0], y_train.shape[1], n_features))\n",
    "X_test, y_test = split_series(test.values,n_past, n_future)\n",
    "X_test = X_test.reshape((X_test.shape[0], X_test.shape[1],n_features))\n",
    "y_test = y_test.reshape((y_test.shape[0], y_test.shape[1], n_features))"
   ]
  },
  {
   "cell_type": "code",
   "execution_count": null,
   "id": "ce2e7f65",
   "metadata": {},
   "outputs": [],
   "source": []
  },
  {
   "cell_type": "code",
   "execution_count": null,
   "id": "d365eb11",
   "metadata": {},
   "outputs": [],
   "source": [
    "TRAIN_SPLIT = 1000\n",
    "prodf = df_products[:TRAIN_SPLIT]\n",
    "data_mean = prodf.mean(axis=0)\n",
    "data_std = prodf.std(axis=0)\n",
    "prodf = (prodf-data_mean)/data_std\n",
    "promodf = reshapepromo[:TRAIN_SPLIT]\n",
    "train_df = pd.concat([prodf, promodf], axis = 1)\n",
    "test_df = pd.concat([df_products, reshapepromo], axis = 1)[1000:]\n",
    "\n"
   ]
  },
  {
   "cell_type": "code",
   "execution_count": null,
   "id": "c31471c0",
   "metadata": {},
   "outputs": [],
   "source": [
    "def split_series(series, n_past, n_future):\n",
    "    X, y = list(), list()\n",
    "    for window_start in range(len(series)):\n",
    "        past_end = window_start + n_past\n",
    "        future_end = past_end + n_future\n",
    "        if future_end > len(series): \n",
    "            break\n",
    "        past, future = series[window_start:past_end, :], series[past_end:future_end, :]\n",
    "        X.append(past)\n",
    "        y.append(future)\n",
    "    return np.array(X), np.array(y)\n",
    "\n",
    "n_past = 1000\n",
    "n_future = 71 \n",
    "n_features = 1\n",
    "\n",
    "X_train_df, y_train_df = split_series(train_df.values,n_past, n_future)\n",
    "X_train_df = X_train_df.reshape((X_train_df.shape[0], X_train_df.shape[1],n_features))\n",
    "y_train_df = y_train_df.reshape((y_train_df.shape[0], y_train_df.shape[1], n_features))\n",
    "X_test_df, y_test_df = split_series(test_df.values,n_past, n_future)\n",
    "X_test_df = X_test_df.reshape((X_test_df.shape[0], X_test_df.shape[1],n_features))\n",
    "y_test_df = y_test_df.reshape((y_test_df.shape[0], y_test_df.shape[1], n_features))"
   ]
  },
  {
   "cell_type": "code",
   "execution_count": 245,
   "id": "627e52fa",
   "metadata": {},
   "outputs": [],
   "source": [
    "def multivariate_data(dataset, target, start_index, end_index, history_size,\n",
    "                      target_size, step, single_step=False):\n",
    "    data = []\n",
    "    labels = []\n",
    "    start_index = start_index + history_size\n",
    "    if end_index is None:\n",
    "        end_index = len(dataset) - target_size\n",
    "    for i in range(start_index, end_index):\n",
    "        indices = range(i-history_size, i, step)\n",
    "        data.append(dataset[indices])\n",
    "    if single_step:\n",
    "        labels.append(target[i+target_size])\n",
    "    else:\n",
    "        labels.append(target[i:i+target_size])\n",
    "    return np.array(data), np.array(labels)"
   ]
  },
  {
   "cell_type": "code",
   "execution_count": null,
   "id": "f04864a0",
   "metadata": {},
   "outputs": [],
   "source": [
    "past_history = 1000\n",
    "future_target = 71\n",
    "\n",
    "x_train, y_train = pd.DataFrame(train_df[:past_history, 1]), pd.DataFrame(train_df.iloc[:past_history, 0])\n",
    "x_valid, y_valid = pd.DataFrame(test_df[:future_target, 1]), pd.DataFrame(test_df.iloc[:future_target, 0])\n",
    "\n",
    "x_train_single, y_train_single = multivariate_data(train_df, train_df[:, 1], 0, TRAIN_SPLIT, past_history, future_target)\n",
    "\n",
    "x_val_single, y_val_single = multivariate_data(test, test[:, 1], TRAIN_SPLIT, None, history_size = 71,future_target)"
   ]
  },
  {
   "cell_type": "code",
   "execution_count": 12,
   "id": "ba520433",
   "metadata": {},
   "outputs": [],
   "source": [
    "# your code here\n",
    "def univariate_data(dataset, start_index, end_index, history_size, target_size):\n",
    "    data = []\n",
    "    labels = []\n",
    "    start_index = start_index + history_size\n",
    "    if end_index is None:\n",
    "    end_index = len(dataset) - target_size\n",
    "    for i in range(start_index, end_index):\n",
    "    indices = range(i-history_size, i)\n",
    "    # Reshape data from (history_size,) to (history_size, 1)\n",
    "    data.append(np.reshape(dataset[indices], (history_size, 1)))\n",
    "    labels.append(dataset[i+target_size])\n",
    "    return np.array(data), np.array(labels)\n",
    "\n",
    "\n",
    "tf.random.set_seed(13)\n",
    "\n",
    "future_target = 95\n",
    "x_train_multi, y_train_multi = multivariate_data(dataset, dataset[:, 1], 0,\n",
    "                                                 TRAIN_SPLIT, past_history,\n",
    "                                                 future_target, STEP)\n",
    "x_val_multi, y_val_multi = multivariate_data(dataset, dataset[:, 1],\n",
    "                                             TRAIN_SPLIT, None, past_history,\n",
    "                                             future_target, STEP)\n",
    "\n",
    "X_train = df_train.copy()\n",
    "X_test = df_test.copy()\n",
    "full_df = pd.concat([X_train, X_test])\n",
    "full_df.reset_index(drop=True, inplace=True)\n",
    "X_store = full_df.set_index(['store_nbr', 'family', 'date']).sort_index()\n",
    "X_prom = (X_store.groupby('date').mean().squeeze())['onpromotion'].to_frame()\n",
    "av_sales = (X_store.groupby('date').mean().squeeze())['sales'].to_frame()\n",
    "full_df.head()"
   ]
  },
  {
   "cell_type": "markdown",
   "id": "1cb26a9b",
   "metadata": {},
   "source": [
    "## 2.2. Валидация \n",
    "### 2.2.1. Метрики\n",
    "<ol>\n",
    "    <li>Какие метрики качества могут быть использованы в нашей задаче?</li>\n",
    "    <li>В качестве метрики качества мы хотим использовать MSE; с какими проблемами мы можем столкнуться?</li>\n",
    "</ol>\n",
    "\n",
    "### 2.2.2. Кросс-валидация\n",
    "Как провести кросс-валидацию?\n",
    "\n",
    "### 2.2.3. Сравнение моделей\n",
    "Предположим, мы построили несколько пайплайнов прогнозирования. Как выбрать лучший из них?\n",
    "<ol>\n",
    "    <li>В датасете 30 рядов, мы посчитали метрику для каждого из них, но нам надо понять, какой из пайплайнов работает лучше; как это сделать?</li>\n",
    "    <li>Мы выбрали лучший из пайплайнов; можно ли еще улучшить его? Когда стоит остановиться?</li>\n",
    "    <li>*Если в предыдущих частях были рассмотрены несколько пайплайнов, какой оказался лучшим? Как выглядит лучший прогноз? (Если выше был рассмотрен один пайплайн, пропустите этот пункт)</li>\n",
    "</ol>"
   ]
  },
  {
   "cell_type": "code",
   "execution_count": 13,
   "id": "c0a36373",
   "metadata": {},
   "outputs": [],
   "source": [
    "# your code here"
   ]
  },
  {
   "cell_type": "markdown",
   "id": "22a4e862",
   "metadata": {},
   "source": [
    "## 2.3. Использование доп данных\n",
    "<ol>\n",
    "    <li>Получилось ли использовать данные об акциях при построении прогнозов?</li>\n",
    "    <li>Если да, помогают ли они предсказывать точнее?</li>\n",
    "    <li>Как понять, какие из акций важны, а какие нет? Могут ли скоррелированные признаки помешать оценке важности признака? Что с этим делать?</li>\n",
    "</ol>"
   ]
  },
  {
   "cell_type": "code",
   "execution_count": 14,
   "id": "b76c89fa",
   "metadata": {},
   "outputs": [],
   "source": [
    "# your code here"
   ]
  },
  {
   "cell_type": "markdown",
   "id": "ed8678f8",
   "metadata": {},
   "source": [
    "## 2.4. Production 🚀\n",
    "Мы построили восхитительный пайплайн прогнозирования! Как вывести его в продакшн?"
   ]
  },
  {
   "cell_type": "markdown",
   "id": "31f93823-1378-4db1-bd76-1a1ebda68054",
   "metadata": {
    "tags": []
   },
   "source": [
    "***\n",
    "# Свободная часть\n",
    "Часть для самых смелых энтузиастов в мире временных рядов! \n",
    "\n",
    "Здесь предлагается попробовать сделать с датасетом что-то интересное на ваш вкус. Можно попробовать сделать что-то из предложенного:\n",
    "- Покрутить датасет `dataset/influence.csv`: в нем дана матрица влияния каждой акции на каждый временной ряд продаж. Как ее можно использовать? Как это может помочь при прогнозировании? \n",
    "- Поглубже погрузиться в изучение \"близости\" временнях рядов и попробовать использовать эти знания для прогнозирования\n",
    "- Подумать о том, как можно оценить влияние какого-то внешнего фактора-признака? Допустим, у нас есть такой же датасет с продажами и мы знаем, что определенная акция должна была повлиять на конкрентный ряд. Как оценить это влияние?\n",
    "- Любая другая тема, которая кажется важной и интересной"
   ]
  },
  {
   "cell_type": "code",
   "execution_count": 15,
   "id": "06b13e47-af0f-466e-a36d-9f54934da419",
   "metadata": {},
   "outputs": [],
   "source": [
    "# your code here"
   ]
  }
 ],
 "metadata": {
  "kernelspec": {
   "display_name": "Python 3 (ipykernel)",
   "language": "python",
   "name": "python3"
  },
  "language_info": {
   "codemirror_mode": {
    "name": "ipython",
    "version": 3
   },
   "file_extension": ".py",
   "mimetype": "text/x-python",
   "name": "python",
   "nbconvert_exporter": "python",
   "pygments_lexer": "ipython3",
   "version": "3.9.13"
  }
 },
 "nbformat": 4,
 "nbformat_minor": 5
}
